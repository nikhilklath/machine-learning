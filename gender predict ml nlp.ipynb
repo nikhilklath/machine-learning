{
 "metadata": {
  "language_info": {
   "codemirror_mode": {
    "name": "ipython",
    "version": 3
   },
   "file_extension": ".py",
   "mimetype": "text/x-python",
   "name": "python",
   "nbconvert_exporter": "python",
   "pygments_lexer": "ipython3",
   "version": 3
  },
  "orig_nbformat": 2
 },
 "nbformat": 4,
 "nbformat_minor": 2,
 "cells": [
  {
   "source": [
    "### This notebook uses Natural Language Processing and Machine Learning to predict gender of scientists"
   ],
   "cell_type": "markdown",
   "metadata": {}
  },
  {
   "source": [
    "### Import packages"
   ],
   "cell_type": "markdown",
   "metadata": {}
  },
  {
   "cell_type": "code",
   "execution_count": null,
   "metadata": {},
   "outputs": [],
   "source": [
    "import random \n",
    "from nltk.corpus import names \n",
    "import nltk \n",
    "import pandas as pd \n",
    "import numpy as np"
   ]
  },
  {
   "cell_type": "code",
   "execution_count": null,
   "metadata": {},
   "outputs": [],
   "source": [
    "# Read the excel file into a dataframe\n",
    "file = pd.read_excel('C:/Users/nikhi/Desktop/Summer 2020/RA Work/RA NBER/listofauthorswithfirstname_Encoded/listofauthorswithfirstname_Encoded.xlsx')"
   ]
  },
  {
   "source": [
    "### Define functions that use natural language processing and machine learning"
   ],
   "cell_type": "markdown",
   "metadata": {}
  },
  {
   "cell_type": "code",
   "execution_count": null,
   "metadata": {},
   "outputs": [],
   "source": [
    "def gender_features(word): \n",
    "    # tokenizes parts of the scientist name\n",
    "    return {'last_2letters':word[-2:], 'last_letter':word[-1], 'last_3letter':word[-3:],'last_4letter':word[-4:],'first_letter':word[0], 'first_2letter':word[:2]} \n",
    "  \n",
    "def get_prediction(country, male, female):\n",
    "    # preparing a list of names and corresponding gender labels\n",
    "    labeled_names = ([(name.split(' ')[0], 'male') for name in male['given_name']]+\n",
    "             [(name.split(' ')[0], 'female') for name in female['given_name']])\n",
    "\n",
    "    n = len(male) + len(female) \n",
    "  \n",
    "    random.shuffle(labeled_names) \n",
    "  \n",
    "    # we use the feature extractor to process the names data. \n",
    "    featuresets = [(gender_features(n), gender)  \n",
    "               for (n, gender)in labeled_names] \n",
    "  \n",
    "    # Divide the resulting list of feature \n",
    "    # sets into a training set and a test set. \n",
    "    train_set, test_set = featuresets[:n-100], featuresets[n-100:] \n",
    "  \n",
    "    # The training set is used to train a new \"naive Bayes\" classifier. \n",
    "    classifier = nltk.NaiveBayesClassifier.train(train_set)   \n",
    "    print(country, nltk.classify.accuracy(classifier, train_set))\n",
    "    print(country, nltk.classify.accuracy(classifier, test_set))\n",
    "    #classifier.show_most_informative_features(200)\n",
    "\n",
    "    return classifier"
   ]
  },
  {
   "source": [
    "### Use above functions to predict of scientists"
   ],
   "cell_type": "markdown",
   "metadata": {}
  },
  {
   "cell_type": "code",
   "execution_count": null,
   "metadata": {},
   "outputs": [],
   "source": [
    "# list of all unique countries in the dataset\n",
    "countries = file.affiliation_country.unique()\n",
    "pred = [] # gender prediction\n",
    "acc = [] # accuracy of prediction\n",
    "for country in countries:\n",
    "    # list of all male names in that country\n",
    "    male = file[(file['GENDER']==1) & (file['Country']==country)]\n",
    "\n",
    "    # list of all female names in that country\n",
    "    female = file[(file['GENDER']==2) & (file['Country']==country)]\n",
    "\n",
    "    # list of names with unknown gender\n",
    "    unk = file[(file['GENDER']==0) & (file['Country']==country)]\n",
    "\n",
    "    # get the gender predicter object for that country\n",
    "    c = get_prediction(country, male, female)\n",
    "    for name in unk['given_name']:\n",
    "        # find the gender of unknown names\n",
    "        pred.append([country, name, c.classify(gender_features(str(name).split(' ')[0]))])"
   ]
  },
  {
   "cell_type": "code",
   "execution_count": null,
   "metadata": {},
   "outputs": [],
   "source": [
    "pred"
   ]
  }
 ]
}